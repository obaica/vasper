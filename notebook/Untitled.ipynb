{
 "cells": [
  {
   "cell_type": "code",
   "execution_count": 8,
   "metadata": {},
   "outputs": [],
   "source": [
    "### import \n",
    "import os\n",
    "from pprint import pprint\n",
    "import automater\n",
    "from pymatgen.io import lobster as pmglobster\n",
    "from pymatgen.electronic_structure import cohp as pmgcohp\n",
    "\n",
    "### files\n",
    "# data_dir = os.path.join(os.path.dirname(os.path.dirname(automater.__file__)), 'data', 'lobster', 'GaAs')\n",
    "data_dir = os.path.join(os.path.dirname(os.path.dirname(automater.__file__)), 'data', 'lobster', 'BaTiO3')\n",
    "charge_file = os.path.join(data_dir, 'CHARGE.lobster')\n",
    "cohpcar_file = os.path.join(data_dir, 'COHPCAR.lobster')\n",
    "coopcar_file = os.path.join(data_dir, 'COOPCAR.lobster')\n",
    "doscar_file = os.path.join(data_dir, 'DOSCAR.lobster')\n",
    "icohp_file = os.path.join(data_dir, 'ICOHPLIST.lobster')\n",
    "icoop_file = os.path.join(data_dir, 'ICOOPLIST.lobster')\n",
    "vasprun = os.path.join(data_dir, 'vasprun.xml')\n",
    "posfile = os.path.join(data_dir, 'POSCAR')"
   ]
  },
  {
   "cell_type": "code",
   "execution_count": 9,
   "metadata": {},
   "outputs": [],
   "source": [
    "### read files\n",
    "charge = pmglobster.Charge(filename=charge_file)\n",
    "cohpcar = pmglobster.Cohpcar(are_coops=False, filename=cohpcar_file)\n",
    "coopcar = pmglobster.Cohpcar(are_coops=True, filename=coopcar_file)\n",
    "doscar = pmglobster.Doscar(doscar=doscar_file, vasprun=vasprun)\n",
    "icohp = pmglobster.Icohplist(are_coops=False, filename=icohp_file)\n",
    "icoop = pmglobster.Icohplist(are_coops=True, filename=icoop_file)"
   ]
  },
  {
   "cell_type": "code",
   "execution_count": 10,
   "metadata": {},
   "outputs": [
    {
     "name": "stdout",
     "output_type": "stream",
     "text": [
      "Structure Summary\n",
      "Lattice\n",
      "    abc : 3.9788692253833724 3.9788692253833724 3.9788692253833724\n",
      " angles : 60.00000000000001 60.00000000000001 60.00000000000001\n",
      " volume : 44.54141381110585\n",
      "      A : 0.0 2.813485410723048 2.813485410723048\n",
      "      B : 2.813485410723048 0.0 2.813485410723048\n",
      "      C : 2.813485410723048 2.813485410723048 0.0\n",
      "PeriodicSite: Ga (4.2202, 4.2202, 4.2202) [0.7500, 0.7500, 0.7500]\n",
      "PeriodicSite: As (0.0000, 0.0000, 0.0000) [0.0000, 0.0000, 0.0000]\n"
     ]
    }
   ],
   "source": [
    "### Charge class\n",
    "## Mulliken and Loewdin charges as site properties\n",
    "pprint(charge.get_structure_with_charges(structure_filename=posfile))"
   ]
  },
  {
   "cell_type": "code",
   "execution_count": 11,
   "metadata": {},
   "outputs": [
    {
     "data": {
      "text/plain": [
       "{'1': {'4s-4s': {'COHP': {<Spin.up: 1>: array([0., 0., 0., ..., 0., 0., 0.])},\n",
       "   'ICOHP': {<Spin.up: 1>: array([0., 0., 0., ..., 0., 0., 0.])},\n",
       "   'orbitals': [(4, <Orbital.s: 0>), (4, <Orbital.s: 0>)],\n",
       "   'length': 2.436549838863055,\n",
       "   'sites': (0, 1)},\n",
       "  '4s-4py': {'COHP': {<Spin.up: 1>: array([0., 0., 0., ..., 0., 0., 0.])},\n",
       "   'ICOHP': {<Spin.up: 1>: array([ 0.,  0.,  0., ..., -0., -0., -0.])},\n",
       "   'orbitals': [(4, <Orbital.s: 0>), (4, <Orbital.py: 1>)],\n",
       "   'length': 2.436549838863055,\n",
       "   'sites': (0, 1)},\n",
       "  '4s-4pz': {'COHP': {<Spin.up: 1>: array([0., 0., 0., ..., 0., 0., 0.])},\n",
       "   'ICOHP': {<Spin.up: 1>: array([ 0.,  0.,  0., ..., -0., -0., -0.])},\n",
       "   'orbitals': [(4, <Orbital.s: 0>), (4, <Orbital.pz: 2>)],\n",
       "   'length': 2.436549838863055,\n",
       "   'sites': (0, 1)},\n",
       "  '4s-4px': {'COHP': {<Spin.up: 1>: array([0., 0., 0., ..., 0., 0., 0.])},\n",
       "   'ICOHP': {<Spin.up: 1>: array([0., 0., 0., ..., 0., 0., 0.])},\n",
       "   'orbitals': [(4, <Orbital.s: 0>), (4, <Orbital.px: 3>)],\n",
       "   'length': 2.436549838863055,\n",
       "   'sites': (0, 1)},\n",
       "  '4py-4s': {'COHP': {<Spin.up: 1>: array([0., 0., 0., ..., 0., 0., 0.])},\n",
       "   'ICOHP': {<Spin.up: 1>: array([ 0.,  0.,  0., ..., -0., -0., -0.])},\n",
       "   'orbitals': [(4, <Orbital.py: 1>), (4, <Orbital.s: 0>)],\n",
       "   'length': 2.436549838863055,\n",
       "   'sites': (0, 1)},\n",
       "  '4py-4py': {'COHP': {<Spin.up: 1>: array([0., 0., 0., ..., 0., 0., 0.])},\n",
       "   'ICOHP': {<Spin.up: 1>: array([0., 0., 0., ..., 0., 0., 0.])},\n",
       "   'orbitals': [(4, <Orbital.py: 1>), (4, <Orbital.py: 1>)],\n",
       "   'length': 2.436549838863055,\n",
       "   'sites': (0, 1)},\n",
       "  '4py-4pz': {'COHP': {<Spin.up: 1>: array([0., 0., 0., ..., 0., 0., 0.])},\n",
       "   'ICOHP': {<Spin.up: 1>: array([ 0.,  0.,  0., ..., -0., -0., -0.])},\n",
       "   'orbitals': [(4, <Orbital.py: 1>), (4, <Orbital.pz: 2>)],\n",
       "   'length': 2.436549838863055,\n",
       "   'sites': (0, 1)},\n",
       "  '4py-4px': {'COHP': {<Spin.up: 1>: array([0., 0., 0., ..., 0., 0., 0.])},\n",
       "   'ICOHP': {<Spin.up: 1>: array([0., 0., 0., ..., 0., 0., 0.])},\n",
       "   'orbitals': [(4, <Orbital.py: 1>), (4, <Orbital.px: 3>)],\n",
       "   'length': 2.436549838863055,\n",
       "   'sites': (0, 1)},\n",
       "  '4pz-4s': {'COHP': {<Spin.up: 1>: array([0., 0., 0., ..., 0., 0., 0.])},\n",
       "   'ICOHP': {<Spin.up: 1>: array([ 0.,  0.,  0., ..., -0., -0., -0.])},\n",
       "   'orbitals': [(4, <Orbital.pz: 2>), (4, <Orbital.s: 0>)],\n",
       "   'length': 2.436549838863055,\n",
       "   'sites': (0, 1)},\n",
       "  '4pz-4py': {'COHP': {<Spin.up: 1>: array([0., 0., 0., ..., 0., 0., 0.])},\n",
       "   'ICOHP': {<Spin.up: 1>: array([ 0.,  0.,  0., ..., -0., -0., -0.])},\n",
       "   'orbitals': [(4, <Orbital.pz: 2>), (4, <Orbital.py: 1>)],\n",
       "   'length': 2.436549838863055,\n",
       "   'sites': (0, 1)},\n",
       "  '4pz-4pz': {'COHP': {<Spin.up: 1>: array([0., 0., 0., ..., 0., 0., 0.])},\n",
       "   'ICOHP': {<Spin.up: 1>: array([0., 0., 0., ..., 0., 0., 0.])},\n",
       "   'orbitals': [(4, <Orbital.pz: 2>), (4, <Orbital.pz: 2>)],\n",
       "   'length': 2.436549838863055,\n",
       "   'sites': (0, 1)},\n",
       "  '4pz-4px': {'COHP': {<Spin.up: 1>: array([0., 0., 0., ..., 0., 0., 0.])},\n",
       "   'ICOHP': {<Spin.up: 1>: array([0., 0., 0., ..., 0., 0., 0.])},\n",
       "   'orbitals': [(4, <Orbital.pz: 2>), (4, <Orbital.px: 3>)],\n",
       "   'length': 2.436549838863055,\n",
       "   'sites': (0, 1)},\n",
       "  '4px-4s': {'COHP': {<Spin.up: 1>: array([0., 0., 0., ..., 0., 0., 0.])},\n",
       "   'ICOHP': {<Spin.up: 1>: array([ 0.,  0.,  0., ..., -0., -0., -0.])},\n",
       "   'orbitals': [(4, <Orbital.px: 3>), (4, <Orbital.s: 0>)],\n",
       "   'length': 2.436549838863055,\n",
       "   'sites': (0, 1)},\n",
       "  '4px-4py': {'COHP': {<Spin.up: 1>: array([0., 0., 0., ..., 0., 0., 0.])},\n",
       "   'ICOHP': {<Spin.up: 1>: array([ 0.,  0.,  0., ..., -0., -0., -0.])},\n",
       "   'orbitals': [(4, <Orbital.px: 3>), (4, <Orbital.py: 1>)],\n",
       "   'length': 2.436549838863055,\n",
       "   'sites': (0, 1)},\n",
       "  '4px-4pz': {'COHP': {<Spin.up: 1>: array([0., 0., 0., ..., 0., 0., 0.])},\n",
       "   'ICOHP': {<Spin.up: 1>: array([ 0.,  0.,  0., ..., -0., -0., -0.])},\n",
       "   'orbitals': [(4, <Orbital.px: 3>), (4, <Orbital.pz: 2>)],\n",
       "   'length': 2.436549838863055,\n",
       "   'sites': (0, 1)},\n",
       "  '4px-4px': {'COHP': {<Spin.up: 1>: array([0., 0., 0., ..., 0., 0., 0.])},\n",
       "   'ICOHP': {<Spin.up: 1>: array([0., 0., 0., ..., 0., 0., 0.])},\n",
       "   'orbitals': [(4, <Orbital.px: 3>), (4, <Orbital.px: 3>)],\n",
       "   'length': 2.436549838863055,\n",
       "   'sites': (0, 1)}},\n",
       " '2': {'4s-4s': {'COHP': {<Spin.up: 1>: array([0., 0., 0., ..., 0., 0., 0.])},\n",
       "   'ICOHP': {<Spin.up: 1>: array([0., 0., 0., ..., 0., 0., 0.])},\n",
       "   'orbitals': [(4, <Orbital.s: 0>), (4, <Orbital.s: 0>)],\n",
       "   'length': 2.4365498388630544,\n",
       "   'sites': (0, 1)},\n",
       "  '4s-4py': {'COHP': {<Spin.up: 1>: array([0., 0., 0., ..., 0., 0., 0.])},\n",
       "   'ICOHP': {<Spin.up: 1>: array([ 0.,  0.,  0., ..., -0., -0., -0.])},\n",
       "   'orbitals': [(4, <Orbital.s: 0>), (4, <Orbital.py: 1>)],\n",
       "   'length': 2.4365498388630544,\n",
       "   'sites': (0, 1)},\n",
       "  '4s-4pz': {'COHP': {<Spin.up: 1>: array([0., 0., 0., ..., 0., 0., 0.])},\n",
       "   'ICOHP': {<Spin.up: 1>: array([ 0.,  0.,  0., ..., -0., -0., -0.])},\n",
       "   'orbitals': [(4, <Orbital.s: 0>), (4, <Orbital.pz: 2>)],\n",
       "   'length': 2.4365498388630544,\n",
       "   'sites': (0, 1)},\n",
       "  '4s-4px': {'COHP': {<Spin.up: 1>: array([0., 0., 0., ..., 0., 0., 0.])},\n",
       "   'ICOHP': {<Spin.up: 1>: array([ 0.,  0.,  0., ..., -0., -0., -0.])},\n",
       "   'orbitals': [(4, <Orbital.s: 0>), (4, <Orbital.px: 3>)],\n",
       "   'length': 2.4365498388630544,\n",
       "   'sites': (0, 1)},\n",
       "  '4py-4s': {'COHP': {<Spin.up: 1>: array([0., 0., 0., ..., 0., 0., 0.])},\n",
       "   'ICOHP': {<Spin.up: 1>: array([ 0.,  0.,  0., ..., -0., -0., -0.])},\n",
       "   'orbitals': [(4, <Orbital.py: 1>), (4, <Orbital.s: 0>)],\n",
       "   'length': 2.4365498388630544,\n",
       "   'sites': (0, 1)},\n",
       "  '4py-4py': {'COHP': {<Spin.up: 1>: array([0., 0., 0., ..., 0., 0., 0.])},\n",
       "   'ICOHP': {<Spin.up: 1>: array([ 0.,  0.,  0., ..., -0., -0., -0.])},\n",
       "   'orbitals': [(4, <Orbital.py: 1>), (4, <Orbital.py: 1>)],\n",
       "   'length': 2.4365498388630544,\n",
       "   'sites': (0, 1)},\n",
       "  '4py-4pz': {'COHP': {<Spin.up: 1>: array([0., 0., 0., ..., 0., 0., 0.])},\n",
       "   'ICOHP': {<Spin.up: 1>: array([ 0.,  0.,  0., ..., -0., -0., -0.])},\n",
       "   'orbitals': [(4, <Orbital.py: 1>), (4, <Orbital.pz: 2>)],\n",
       "   'length': 2.4365498388630544,\n",
       "   'sites': (0, 1)},\n",
       "  '4py-4px': {'COHP': {<Spin.up: 1>: array([0., 0., 0., ..., 0., 0., 0.])},\n",
       "   'ICOHP': {<Spin.up: 1>: array([ 0.,  0.,  0., ..., -0., -0., -0.])},\n",
       "   'orbitals': [(4, <Orbital.py: 1>), (4, <Orbital.px: 3>)],\n",
       "   'length': 2.4365498388630544,\n",
       "   'sites': (0, 1)},\n",
       "  '4pz-4s': {'COHP': {<Spin.up: 1>: array([0., 0., 0., ..., 0., 0., 0.])},\n",
       "   'ICOHP': {<Spin.up: 1>: array([ 0.,  0.,  0., ..., -0., -0., -0.])},\n",
       "   'orbitals': [(4, <Orbital.pz: 2>), (4, <Orbital.s: 0>)],\n",
       "   'length': 2.4365498388630544,\n",
       "   'sites': (0, 1)},\n",
       "  '4pz-4py': {'COHP': {<Spin.up: 1>: array([0., 0., 0., ..., 0., 0., 0.])},\n",
       "   'ICOHP': {<Spin.up: 1>: array([ 0.,  0.,  0., ..., -0., -0., -0.])},\n",
       "   'orbitals': [(4, <Orbital.pz: 2>), (4, <Orbital.py: 1>)],\n",
       "   'length': 2.4365498388630544,\n",
       "   'sites': (0, 1)},\n",
       "  '4pz-4pz': {'COHP': {<Spin.up: 1>: array([0., 0., 0., ..., 0., 0., 0.])},\n",
       "   'ICOHP': {<Spin.up: 1>: array([ 0.,  0.,  0., ..., -0., -0., -0.])},\n",
       "   'orbitals': [(4, <Orbital.pz: 2>), (4, <Orbital.pz: 2>)],\n",
       "   'length': 2.4365498388630544,\n",
       "   'sites': (0, 1)},\n",
       "  '4pz-4px': {'COHP': {<Spin.up: 1>: array([0., 0., 0., ..., 0., 0., 0.])},\n",
       "   'ICOHP': {<Spin.up: 1>: array([ 0.,  0.,  0., ..., -0., -0., -0.])},\n",
       "   'orbitals': [(4, <Orbital.pz: 2>), (4, <Orbital.px: 3>)],\n",
       "   'length': 2.4365498388630544,\n",
       "   'sites': (0, 1)},\n",
       "  '4px-4s': {'COHP': {<Spin.up: 1>: array([0., 0., 0., ..., 0., 0., 0.])},\n",
       "   'ICOHP': {<Spin.up: 1>: array([ 0.,  0.,  0., ..., -0., -0., -0.])},\n",
       "   'orbitals': [(4, <Orbital.px: 3>), (4, <Orbital.s: 0>)],\n",
       "   'length': 2.4365498388630544,\n",
       "   'sites': (0, 1)},\n",
       "  '4px-4py': {'COHP': {<Spin.up: 1>: array([0., 0., 0., ..., 0., 0., 0.])},\n",
       "   'ICOHP': {<Spin.up: 1>: array([ 0.,  0.,  0., ..., -0., -0., -0.])},\n",
       "   'orbitals': [(4, <Orbital.px: 3>), (4, <Orbital.py: 1>)],\n",
       "   'length': 2.4365498388630544,\n",
       "   'sites': (0, 1)},\n",
       "  '4px-4pz': {'COHP': {<Spin.up: 1>: array([0., 0., 0., ..., 0., 0., 0.])},\n",
       "   'ICOHP': {<Spin.up: 1>: array([ 0.,  0.,  0., ..., -0., -0., -0.])},\n",
       "   'orbitals': [(4, <Orbital.px: 3>), (4, <Orbital.pz: 2>)],\n",
       "   'length': 2.4365498388630544,\n",
       "   'sites': (0, 1)},\n",
       "  '4px-4px': {'COHP': {<Spin.up: 1>: array([0., 0., 0., ..., 0., 0., 0.])},\n",
       "   'ICOHP': {<Spin.up: 1>: array([0., 0., 0., ..., 0., 0., 0.])},\n",
       "   'orbitals': [(4, <Orbital.px: 3>), (4, <Orbital.px: 3>)],\n",
       "   'length': 2.4365498388630544,\n",
       "   'sites': (0, 1)}},\n",
       " '3': {'4s-4s': {'COHP': {<Spin.up: 1>: array([0., 0., 0., ..., 0., 0., 0.])},\n",
       "   'ICOHP': {<Spin.up: 1>: array([0., 0., 0., ..., 0., 0., 0.])},\n",
       "   'orbitals': [(4, <Orbital.s: 0>), (4, <Orbital.s: 0>)],\n",
       "   'length': 2.4365498388630544,\n",
       "   'sites': (0, 1)},\n",
       "  '4s-4py': {'COHP': {<Spin.up: 1>: array([0., 0., 0., ..., 0., 0., 0.])},\n",
       "   'ICOHP': {<Spin.up: 1>: array([ 0.,  0.,  0., ..., -0., -0., -0.])},\n",
       "   'orbitals': [(4, <Orbital.s: 0>), (4, <Orbital.py: 1>)],\n",
       "   'length': 2.4365498388630544,\n",
       "   'sites': (0, 1)},\n",
       "  '4s-4pz': {'COHP': {<Spin.up: 1>: array([0., 0., 0., ..., 0., 0., 0.])},\n",
       "   'ICOHP': {<Spin.up: 1>: array([ 0.,  0.,  0., ..., -0., -0., -0.])},\n",
       "   'orbitals': [(4, <Orbital.s: 0>), (4, <Orbital.pz: 2>)],\n",
       "   'length': 2.4365498388630544,\n",
       "   'sites': (0, 1)},\n",
       "  '4s-4px': {'COHP': {<Spin.up: 1>: array([0., 0., 0., ..., 0., 0., 0.])},\n",
       "   'ICOHP': {<Spin.up: 1>: array([ 0.,  0.,  0., ..., -0., -0., -0.])},\n",
       "   'orbitals': [(4, <Orbital.s: 0>), (4, <Orbital.px: 3>)],\n",
       "   'length': 2.4365498388630544,\n",
       "   'sites': (0, 1)},\n",
       "  '4py-4s': {'COHP': {<Spin.up: 1>: array([0., 0., 0., ..., 0., 0., 0.])},\n",
       "   'ICOHP': {<Spin.up: 1>: array([0., 0., 0., ..., 0., 0., 0.])},\n",
       "   'orbitals': [(4, <Orbital.py: 1>), (4, <Orbital.s: 0>)],\n",
       "   'length': 2.4365498388630544,\n",
       "   'sites': (0, 1)},\n",
       "  '4py-4py': {'COHP': {<Spin.up: 1>: array([0., 0., 0., ..., 0., 0., 0.])},\n",
       "   'ICOHP': {<Spin.up: 1>: array([0., 0., 0., ..., 0., 0., 0.])},\n",
       "   'orbitals': [(4, <Orbital.py: 1>), (4, <Orbital.py: 1>)],\n",
       "   'length': 2.4365498388630544,\n",
       "   'sites': (0, 1)},\n",
       "  '4py-4pz': {'COHP': {<Spin.up: 1>: array([0., 0., 0., ..., 0., 0., 0.])},\n",
       "   'ICOHP': {<Spin.up: 1>: array([0., 0., 0., ..., 0., 0., 0.])},\n",
       "   'orbitals': [(4, <Orbital.py: 1>), (4, <Orbital.pz: 2>)],\n",
       "   'length': 2.4365498388630544,\n",
       "   'sites': (0, 1)},\n",
       "  '4py-4px': {'COHP': {<Spin.up: 1>: array([0., 0., 0., ..., 0., 0., 0.])},\n",
       "   'ICOHP': {<Spin.up: 1>: array([ 0.,  0.,  0., ..., -0., -0., -0.])},\n",
       "   'orbitals': [(4, <Orbital.py: 1>), (4, <Orbital.px: 3>)],\n",
       "   'length': 2.4365498388630544,\n",
       "   'sites': (0, 1)},\n",
       "  '4pz-4s': {'COHP': {<Spin.up: 1>: array([0., 0., 0., ..., 0., 0., 0.])},\n",
       "   'ICOHP': {<Spin.up: 1>: array([ 0.,  0.,  0., ..., -0., -0., -0.])},\n",
       "   'orbitals': [(4, <Orbital.pz: 2>), (4, <Orbital.s: 0>)],\n",
       "   'length': 2.4365498388630544,\n",
       "   'sites': (0, 1)},\n",
       "  '4pz-4py': {'COHP': {<Spin.up: 1>: array([0., 0., 0., ..., 0., 0., 0.])},\n",
       "   'ICOHP': {<Spin.up: 1>: array([0., 0., 0., ..., 0., 0., 0.])},\n",
       "   'orbitals': [(4, <Orbital.pz: 2>), (4, <Orbital.py: 1>)],\n",
       "   'length': 2.4365498388630544,\n",
       "   'sites': (0, 1)},\n",
       "  '4pz-4pz': {'COHP': {<Spin.up: 1>: array([0., 0., 0., ..., 0., 0., 0.])},\n",
       "   'ICOHP': {<Spin.up: 1>: array([0., 0., 0., ..., 0., 0., 0.])},\n",
       "   'orbitals': [(4, <Orbital.pz: 2>), (4, <Orbital.pz: 2>)],\n",
       "   'length': 2.4365498388630544,\n",
       "   'sites': (0, 1)},\n",
       "  '4pz-4px': {'COHP': {<Spin.up: 1>: array([0., 0., 0., ..., 0., 0., 0.])},\n",
       "   'ICOHP': {<Spin.up: 1>: array([ 0.,  0.,  0., ..., -0., -0., -0.])},\n",
       "   'orbitals': [(4, <Orbital.pz: 2>), (4, <Orbital.px: 3>)],\n",
       "   'length': 2.4365498388630544,\n",
       "   'sites': (0, 1)},\n",
       "  '4px-4s': {'COHP': {<Spin.up: 1>: array([0., 0., 0., ..., 0., 0., 0.])},\n",
       "   'ICOHP': {<Spin.up: 1>: array([ 0.,  0.,  0., ..., -0., -0., -0.])},\n",
       "   'orbitals': [(4, <Orbital.px: 3>), (4, <Orbital.s: 0>)],\n",
       "   'length': 2.4365498388630544,\n",
       "   'sites': (0, 1)},\n",
       "  '4px-4py': {'COHP': {<Spin.up: 1>: array([0., 0., 0., ..., 0., 0., 0.])},\n",
       "   'ICOHP': {<Spin.up: 1>: array([ 0.,  0.,  0., ..., -0., -0., -0.])},\n",
       "   'orbitals': [(4, <Orbital.px: 3>), (4, <Orbital.py: 1>)],\n",
       "   'length': 2.4365498388630544,\n",
       "   'sites': (0, 1)},\n",
       "  '4px-4pz': {'COHP': {<Spin.up: 1>: array([0., 0., 0., ..., 0., 0., 0.])},\n",
       "   'ICOHP': {<Spin.up: 1>: array([ 0.,  0.,  0., ..., -0., -0., -0.])},\n",
       "   'orbitals': [(4, <Orbital.px: 3>), (4, <Orbital.pz: 2>)],\n",
       "   'length': 2.4365498388630544,\n",
       "   'sites': (0, 1)},\n",
       "  '4px-4px': {'COHP': {<Spin.up: 1>: array([0., 0., 0., ..., 0., 0., 0.])},\n",
       "   'ICOHP': {<Spin.up: 1>: array([0., 0., 0., ..., 0., 0., 0.])},\n",
       "   'orbitals': [(4, <Orbital.px: 3>), (4, <Orbital.px: 3>)],\n",
       "   'length': 2.4365498388630544,\n",
       "   'sites': (0, 1)}},\n",
       " '4': {'4s-4s': {'COHP': {<Spin.up: 1>: array([0., 0., 0., ..., 0., 0., 0.])},\n",
       "   'ICOHP': {<Spin.up: 1>: array([0., 0., 0., ..., 0., 0., 0.])},\n",
       "   'orbitals': [(4, <Orbital.s: 0>), (4, <Orbital.s: 0>)],\n",
       "   'length': 2.4365498388630544,\n",
       "   'sites': (0, 1)},\n",
       "  '4s-4py': {'COHP': {<Spin.up: 1>: array([0., 0., 0., ..., 0., 0., 0.])},\n",
       "   'ICOHP': {<Spin.up: 1>: array([ 0.,  0.,  0., ..., -0., -0., -0.])},\n",
       "   'orbitals': [(4, <Orbital.s: 0>), (4, <Orbital.py: 1>)],\n",
       "   'length': 2.4365498388630544,\n",
       "   'sites': (0, 1)},\n",
       "  '4s-4pz': {'COHP': {<Spin.up: 1>: array([0., 0., 0., ..., 0., 0., 0.])},\n",
       "   'ICOHP': {<Spin.up: 1>: array([0., 0., 0., ..., 0., 0., 0.])},\n",
       "   'orbitals': [(4, <Orbital.s: 0>), (4, <Orbital.pz: 2>)],\n",
       "   'length': 2.4365498388630544,\n",
       "   'sites': (0, 1)},\n",
       "  '4s-4px': {'COHP': {<Spin.up: 1>: array([0., 0., 0., ..., 0., 0., 0.])},\n",
       "   'ICOHP': {<Spin.up: 1>: array([ 0.,  0.,  0., ..., -0., -0., -0.])},\n",
       "   'orbitals': [(4, <Orbital.s: 0>), (4, <Orbital.px: 3>)],\n",
       "   'length': 2.4365498388630544,\n",
       "   'sites': (0, 1)},\n",
       "  '4py-4s': {'COHP': {<Spin.up: 1>: array([0., 0., 0., ..., 0., 0., 0.])},\n",
       "   'ICOHP': {<Spin.up: 1>: array([ 0.,  0.,  0., ..., -0., -0., -0.])},\n",
       "   'orbitals': [(4, <Orbital.py: 1>), (4, <Orbital.s: 0>)],\n",
       "   'length': 2.4365498388630544,\n",
       "   'sites': (0, 1)},\n",
       "  '4py-4py': {'COHP': {<Spin.up: 1>: array([0., 0., 0., ..., 0., 0., 0.])},\n",
       "   'ICOHP': {<Spin.up: 1>: array([0., 0., 0., ..., 0., 0., 0.])},\n",
       "   'orbitals': [(4, <Orbital.py: 1>), (4, <Orbital.py: 1>)],\n",
       "   'length': 2.4365498388630544,\n",
       "   'sites': (0, 1)},\n",
       "  '4py-4pz': {'COHP': {<Spin.up: 1>: array([0., 0., 0., ..., 0., 0., 0.])},\n",
       "   'ICOHP': {<Spin.up: 1>: array([ 0.,  0.,  0., ..., -0., -0., -0.])},\n",
       "   'orbitals': [(4, <Orbital.py: 1>), (4, <Orbital.pz: 2>)],\n",
       "   'length': 2.4365498388630544,\n",
       "   'sites': (0, 1)},\n",
       "  '4py-4px': {'COHP': {<Spin.up: 1>: array([0., 0., 0., ..., 0., 0., 0.])},\n",
       "   'ICOHP': {<Spin.up: 1>: array([ 0.,  0.,  0., ..., -0., -0., -0.])},\n",
       "   'orbitals': [(4, <Orbital.py: 1>), (4, <Orbital.px: 3>)],\n",
       "   'length': 2.4365498388630544,\n",
       "   'sites': (0, 1)},\n",
       "  '4pz-4s': {'COHP': {<Spin.up: 1>: array([0., 0., 0., ..., 0., 0., 0.])},\n",
       "   'ICOHP': {<Spin.up: 1>: array([0., 0., 0., ..., 0., 0., 0.])},\n",
       "   'orbitals': [(4, <Orbital.pz: 2>), (4, <Orbital.s: 0>)],\n",
       "   'length': 2.4365498388630544,\n",
       "   'sites': (0, 1)},\n",
       "  '4pz-4py': {'COHP': {<Spin.up: 1>: array([0., 0., 0., ..., 0., 0., 0.])},\n",
       "   'ICOHP': {<Spin.up: 1>: array([0., 0., 0., ..., 0., 0., 0.])},\n",
       "   'orbitals': [(4, <Orbital.pz: 2>), (4, <Orbital.py: 1>)],\n",
       "   'length': 2.4365498388630544,\n",
       "   'sites': (0, 1)},\n",
       "  '4pz-4pz': {'COHP': {<Spin.up: 1>: array([0., 0., 0., ..., 0., 0., 0.])},\n",
       "   'ICOHP': {<Spin.up: 1>: array([0., 0., 0., ..., 0., 0., 0.])},\n",
       "   'orbitals': [(4, <Orbital.pz: 2>), (4, <Orbital.pz: 2>)],\n",
       "   'length': 2.4365498388630544,\n",
       "   'sites': (0, 1)},\n",
       "  '4pz-4px': {'COHP': {<Spin.up: 1>: array([0., 0., 0., ..., 0., 0., 0.])},\n",
       "   'ICOHP': {<Spin.up: 1>: array([ 0.,  0.,  0., ..., -0., -0., -0.])},\n",
       "   'orbitals': [(4, <Orbital.pz: 2>), (4, <Orbital.px: 3>)],\n",
       "   'length': 2.4365498388630544,\n",
       "   'sites': (0, 1)},\n",
       "  '4px-4s': {'COHP': {<Spin.up: 1>: array([0., 0., 0., ..., 0., 0., 0.])},\n",
       "   'ICOHP': {<Spin.up: 1>: array([ 0.,  0.,  0., ..., -0., -0., -0.])},\n",
       "   'orbitals': [(4, <Orbital.px: 3>), (4, <Orbital.s: 0>)],\n",
       "   'length': 2.4365498388630544,\n",
       "   'sites': (0, 1)},\n",
       "  '4px-4py': {'COHP': {<Spin.up: 1>: array([0., 0., 0., ..., 0., 0., 0.])},\n",
       "   'ICOHP': {<Spin.up: 1>: array([ 0.,  0.,  0., ..., -0., -0., -0.])},\n",
       "   'orbitals': [(4, <Orbital.px: 3>), (4, <Orbital.py: 1>)],\n",
       "   'length': 2.4365498388630544,\n",
       "   'sites': (0, 1)},\n",
       "  '4px-4pz': {'COHP': {<Spin.up: 1>: array([0., 0., 0., ..., 0., 0., 0.])},\n",
       "   'ICOHP': {<Spin.up: 1>: array([ 0.,  0.,  0., ..., -0., -0., -0.])},\n",
       "   'orbitals': [(4, <Orbital.px: 3>), (4, <Orbital.pz: 2>)],\n",
       "   'length': 2.4365498388630544,\n",
       "   'sites': (0, 1)},\n",
       "  '4px-4px': {'COHP': {<Spin.up: 1>: array([0., 0., 0., ..., 0., 0., 0.])},\n",
       "   'ICOHP': {<Spin.up: 1>: array([0., 0., 0., ..., 0., 0., 0.])},\n",
       "   'orbitals': [(4, <Orbital.px: 3>), (4, <Orbital.px: 3>)],\n",
       "   'length': 2.4365498388630544,\n",
       "   'sites': (0, 1)}}}"
      ]
     },
     "execution_count": 11,
     "metadata": {},
     "output_type": "execute_result"
    }
   ],
   "source": [
    "### Cohp class\n",
    "# cohp = pmgcohp.Cohp(cohpcar.efermi, cohpcar.energies, cohpcar.cohp_data)\n",
    "cohpcar.orb_res_cohp"
   ]
  },
  {
   "cell_type": "code",
   "execution_count": 338,
   "metadata": {},
   "outputs": [
    {
     "data": {
      "text/plain": [
       "False"
      ]
     },
     "execution_count": 338,
     "metadata": {},
     "output_type": "execute_result"
    }
   ],
   "source": [
    "icohp.is_spi"
   ]
  },
  {
   "cell_type": "code",
   "execution_count": 1,
   "metadata": {},
   "outputs": [
    {
     "ename": "IsADirectoryError",
     "evalue": "[Errno 21] Is a directory: '/home/mizokami-ubuntu/Vega/lobster'",
     "output_type": "error",
     "traceback": [
      "\u001b[0;31m---------------------------------------------------------------------------\u001b[0m",
      "\u001b[0;31mIsADirectoryError\u001b[0m                         Traceback (most recent call last)",
      "\u001b[0;32m<ipython-input-1-bb9446973f71>\u001b[0m in \u001b[0;36m<module>\u001b[0;34m\u001b[0m\n\u001b[1;32m      7\u001b[0m \u001b[0;31m# COHPCAR_path = cohpcar_file\u001b[0m\u001b[0;34m\u001b[0m\u001b[0;34m\u001b[0m\u001b[0;34m\u001b[0m\u001b[0m\n\u001b[1;32m      8\u001b[0m \u001b[0mCOHPCAR_path\u001b[0m \u001b[0;34m=\u001b[0m \u001b[0;34m\"/home/mizokami-ubuntu/Vega/lobster\"\u001b[0m\u001b[0;34m\u001b[0m\u001b[0;34m\u001b[0m\u001b[0m\n\u001b[0;32m----> 9\u001b[0;31m \u001b[0mcohpcar\u001b[0m \u001b[0;34m=\u001b[0m \u001b[0mCohpcar\u001b[0m\u001b[0;34m(\u001b[0m\u001b[0mfilename\u001b[0m\u001b[0;34m=\u001b[0m\u001b[0mCOHPCAR_path\u001b[0m\u001b[0;34m)\u001b[0m\u001b[0;34m\u001b[0m\u001b[0;34m\u001b[0m\u001b[0m\n\u001b[0m\u001b[1;32m     10\u001b[0m \u001b[0mcdata\u001b[0m \u001b[0;34m=\u001b[0m \u001b[0mcohpcar\u001b[0m\u001b[0;34m.\u001b[0m\u001b[0mcohp_data\u001b[0m\u001b[0;34m\u001b[0m\u001b[0;34m\u001b[0m\u001b[0m\n\u001b[1;32m     11\u001b[0m \u001b[0mcdata_processed\u001b[0m \u001b[0;34m=\u001b[0m \u001b[0;34m{\u001b[0m\u001b[0;34m}\u001b[0m\u001b[0;34m\u001b[0m\u001b[0;34m\u001b[0m\u001b[0m\n",
      "\u001b[0;32m~/.pyenv/versions/anaconda3-5.3.1/envs/conda/lib/python3.6/site-packages/pymatgen/io/lobster.py\u001b[0m in \u001b[0;36m__init__\u001b[0;34m(self, are_coops, filename)\u001b[0m\n\u001b[1;32m     80\u001b[0m                 \u001b[0;32melse\u001b[0m \u001b[0;34m\"COHPCAR.lobster\"\u001b[0m\u001b[0;34m\u001b[0m\u001b[0;34m\u001b[0m\u001b[0m\n\u001b[1;32m     81\u001b[0m \u001b[0;34m\u001b[0m\u001b[0m\n\u001b[0;32m---> 82\u001b[0;31m         \u001b[0;32mwith\u001b[0m \u001b[0mzopen\u001b[0m\u001b[0;34m(\u001b[0m\u001b[0mfilename\u001b[0m\u001b[0;34m,\u001b[0m \u001b[0;34m\"rt\"\u001b[0m\u001b[0;34m)\u001b[0m \u001b[0;32mas\u001b[0m \u001b[0mf\u001b[0m\u001b[0;34m:\u001b[0m\u001b[0;34m\u001b[0m\u001b[0;34m\u001b[0m\u001b[0m\n\u001b[0m\u001b[1;32m     83\u001b[0m             \u001b[0mcontents\u001b[0m \u001b[0;34m=\u001b[0m \u001b[0mf\u001b[0m\u001b[0;34m.\u001b[0m\u001b[0mread\u001b[0m\u001b[0;34m(\u001b[0m\u001b[0;34m)\u001b[0m\u001b[0;34m.\u001b[0m\u001b[0msplit\u001b[0m\u001b[0;34m(\u001b[0m\u001b[0;34m\"\\n\"\u001b[0m\u001b[0;34m)\u001b[0m\u001b[0;34m\u001b[0m\u001b[0;34m\u001b[0m\u001b[0m\n\u001b[1;32m     84\u001b[0m \u001b[0;34m\u001b[0m\u001b[0m\n",
      "\u001b[0;32m~/.pyenv/versions/anaconda3-5.3.1/envs/conda/lib/python3.6/site-packages/monty/io.py\u001b[0m in \u001b[0;36mzopen\u001b[0;34m(filename, *args, **kwargs)\u001b[0m\n\u001b[1;32m     69\u001b[0m         \u001b[0;32mreturn\u001b[0m \u001b[0mgzip\u001b[0m\u001b[0;34m.\u001b[0m\u001b[0mopen\u001b[0m\u001b[0;34m(\u001b[0m\u001b[0mfilename\u001b[0m\u001b[0;34m,\u001b[0m \u001b[0;34m*\u001b[0m\u001b[0margs\u001b[0m\u001b[0;34m,\u001b[0m \u001b[0;34m**\u001b[0m\u001b[0mkwargs\u001b[0m\u001b[0;34m)\u001b[0m\u001b[0;34m\u001b[0m\u001b[0;34m\u001b[0m\u001b[0m\n\u001b[1;32m     70\u001b[0m     \u001b[0;32melse\u001b[0m\u001b[0;34m:\u001b[0m\u001b[0;34m\u001b[0m\u001b[0;34m\u001b[0m\u001b[0m\n\u001b[0;32m---> 71\u001b[0;31m         \u001b[0;32mreturn\u001b[0m \u001b[0mio\u001b[0m\u001b[0;34m.\u001b[0m\u001b[0mopen\u001b[0m\u001b[0;34m(\u001b[0m\u001b[0mfilename\u001b[0m\u001b[0;34m,\u001b[0m \u001b[0;34m*\u001b[0m\u001b[0margs\u001b[0m\u001b[0;34m,\u001b[0m \u001b[0;34m**\u001b[0m\u001b[0mkwargs\u001b[0m\u001b[0;34m)\u001b[0m\u001b[0;34m\u001b[0m\u001b[0;34m\u001b[0m\u001b[0m\n\u001b[0m\u001b[1;32m     72\u001b[0m \u001b[0;34m\u001b[0m\u001b[0m\n\u001b[1;32m     73\u001b[0m \u001b[0;34m\u001b[0m\u001b[0m\n",
      "\u001b[0;31mIsADirectoryError\u001b[0m: [Errno 21] Is a directory: '/home/mizokami-ubuntu/Vega/lobster'"
     ]
    }
   ],
   "source": [
    "from pymatgen.electronic_structure.cohp import Cohp\n",
    "from pymatgen.electronic_structure.plotter import CohpPlotter\n",
    "from pymatgen.io.lobster import Cohpcar\n",
    "\n",
    "\n",
    "#COHPCAR_path = \"/home/inoue/vega/mizo_lobster/COHPCAR.lobster\"\n",
    "# COHPCAR_path = cohpcar_file\n",
    "COHPCAR_path = \"/home/mizokami-ubuntu/Vega/lobster\"\n",
    "cohpcar = Cohpcar(filename=COHPCAR_path)\n",
    "cdata = cohpcar.cohp_data\n",
    "cdata_processed = {}\n",
    "del cdata['average']\n",
    "cdata['total'] = cdata.pop('1')\n",
    "c = cdata['total']\n",
    "c[\"efermi\"] = 0\n",
    "c[\"energies\"] = cohpcar.energies\n",
    "c[\"are_coops\"] = False\n",
    "cp = CohpPlotter()\n",
    "cp.add_cohp_dict(cdata_processed)\n",
    "x = cp.get_plot()\n",
    "x.ylim([-23, 15])\n",
    "x.show()"
   ]
  },
  {
   "cell_type": "code",
   "execution_count": 6,
   "metadata": {},
   "outputs": [
    {
     "ename": "NameError",
     "evalue": "name 'cohpcar_file' is not defined",
     "output_type": "error",
     "traceback": [
      "\u001b[0;31m---------------------------------------------------------------------------\u001b[0m",
      "\u001b[0;31mNameError\u001b[0m                                 Traceback (most recent call last)",
      "\u001b[0;32m<ipython-input-6-22c8e1d76e17>\u001b[0m in \u001b[0;36m<module>\u001b[0;34m\u001b[0m\n\u001b[1;32m      5\u001b[0m \u001b[0;34m\u001b[0m\u001b[0m\n\u001b[1;32m      6\u001b[0m \u001b[0;31m#COHPCAR_path = \"/home/inoue/vega/mizo_lobster/COHPCAR.lobster\"\u001b[0m\u001b[0;34m\u001b[0m\u001b[0;34m\u001b[0m\u001b[0;34m\u001b[0m\u001b[0m\n\u001b[0;32m----> 7\u001b[0;31m \u001b[0mCOHPCAR_path\u001b[0m \u001b[0;34m=\u001b[0m \u001b[0mcohpcar_file\u001b[0m\u001b[0;34m\u001b[0m\u001b[0;34m\u001b[0m\u001b[0m\n\u001b[0m\u001b[1;32m      8\u001b[0m \u001b[0mcohpcar\u001b[0m \u001b[0;34m=\u001b[0m \u001b[0mCohpcar\u001b[0m\u001b[0;34m(\u001b[0m\u001b[0mfilename\u001b[0m\u001b[0;34m=\u001b[0m\u001b[0mCOHPCAR_path\u001b[0m\u001b[0;34m)\u001b[0m\u001b[0;34m\u001b[0m\u001b[0;34m\u001b[0m\u001b[0m\n\u001b[1;32m      9\u001b[0m \u001b[0mcdata\u001b[0m \u001b[0;34m=\u001b[0m \u001b[0mcohpcar\u001b[0m\u001b[0;34m.\u001b[0m\u001b[0mcohp_data\u001b[0m\u001b[0;34m\u001b[0m\u001b[0;34m\u001b[0m\u001b[0m\n",
      "\u001b[0;31mNameError\u001b[0m: name 'cohpcar_file' is not defined"
     ]
    }
   ],
   "source": [
    "from pymatgen.electronic_structure.cohp import Cohp\n",
    "from pymatgen.electronic_structure.plotter import CohpPlotter\n",
    "from pymatgen.io.lobster import Cohpcar\n",
    "\n",
    "\n",
    "#COHPCAR_path = \"/home/inoue/vega/mizo_lobster/COHPCAR.lobster\"\n",
    "COHPCAR_path = cohpcar_file\n",
    "cohpcar = Cohpcar(filename=COHPCAR_path)\n",
    "cdata = cohpcar.cohp_data\n",
    "cdata_processed = {}\n",
    "del cdata['average']\n",
    "cdata['total'] = cdata.pop('1')\n",
    "for key in cdata:\n",
    "    c = cdata[key]\n",
    "    c[\"efermi\"] = 0\n",
    "    c[\"energies\"] = cohpcar.energies\n",
    "    c[\"are_coops\"] = False\n",
    "    cdata_processed[key] = Cohp.from_dict(c)\n",
    "    pprint(c)\n",
    "cp = CohpPlotter()\n",
    "cp.add_cohp_dict(cdata_processed)\n",
    "x = cp.get_plot()\n",
    "x.ylim([-23, 15])\n",
    "# x.show()"
   ]
  },
  {
   "cell_type": "code",
   "execution_count": 103,
   "metadata": {},
   "outputs": [
    {
     "data": {
      "text/plain": [
       "2.91201"
      ]
     },
     "execution_count": 103,
     "metadata": {},
     "output_type": "execute_result"
    }
   ],
   "source": [
    "cohpcar.efermi"
   ]
  },
  {
   "cell_type": "code",
   "execution_count": 5,
   "metadata": {},
   "outputs": [
    {
     "data": {
      "text/plain": [
       "dict_keys(['5s-2s', '5s-2py', '5s-2pz', '5s-2px', '5py-2s', '5py-2py', '5py-2pz', '5py-2px', '5pz-2s', '5pz-2py', '5pz-2pz', '5pz-2px', '5px-2s', '5px-2py', '5px-2pz', '5px-2px', '4dxy-2s', '4dxy-2py', '4dxy-2pz', '4dxy-2px', '4dyz-2s', '4dyz-2py', '4dyz-2pz', '4dyz-2px', '4dz2-2s', '4dz2-2py', '4dz2-2pz', '4dz2-2px', '4dxz-2s', '4dxz-2py', '4dxz-2pz', '4dxz-2px', '4dx2-2s', '4dx2-2py', '4dx2-2pz', '4dx2-2px'])"
      ]
     },
     "execution_count": 5,
     "metadata": {},
     "output_type": "execute_result"
    }
   ],
   "source": [
    "cdata.keys()"
   ]
  },
  {
   "cell_type": "code",
   "execution_count": 7,
   "metadata": {},
   "outputs": [
    {
     "data": {
      "image/png": "[encoded data removed]",
      "text/plain": [
       "<Figure size 864x576 with 1 Axes>"
      ]
     },
     "metadata": {},
     "output_type": "display_data"
    }
   ],
   "source": [
    "from pymatgen.electronic_structure.cohp import Cohp\n",
    "from pymatgen.electronic_structure.plotter import CohpPlotter\n",
    "from pymatgen.io.lobster import Cohpcar\n",
    "\n",
    "\n",
    "#COHPCAR_path = \"/home/inoue/vega/mizo_lobster/COHPCAR.lobster\"\n",
    "# COHPCAR_path = cohpcar_file\n",
    "COHPCAR_path = \"/home/mizokami-ubuntu/Vega/lobster/COHPCAR.lobster\"\n",
    "cohpcar = Cohpcar(filename=COHPCAR_path)\n",
    "cdata = cohpcar.orb_res_cohp['1']\n",
    "cdata_processed = {}\n",
    "lst = ['5s-2s']\n",
    "# for key in cdata:\n",
    "for key in lst:\n",
    "    c = cdata[key]\n",
    "    c[\"efermi\"] = 0\n",
    "    c[\"energies\"] = cohpcar.energies\n",
    "    c[\"are_coops\"] = False\n",
    "    cdata_processed[key] = Cohp.from_dict(c)\n",
    "cp = CohpPlotter()\n",
    "cp.add_cohp_dict(cdata_processed)\n",
    "x = cp.get_plot()\n",
    "# x.ylim([-50, 20])\n",
    "x.show()"
   ]
  },
  {
   "cell_type": "code",
   "execution_count": 116,
   "metadata": {},
   "outputs": [
    {
     "data": {
      "text/plain": [
       "array([-100.03334,  -99.98333,  -99.93331, ...,   49.91664,   49.96666,\n",
       "         50.01667])"
      ]
     },
     "execution_count": 116,
     "metadata": {},
     "output_type": "execute_result"
    }
   ],
   "source": [
    "cohpcar.energies"
   ]
  },
  {
   "cell_type": "code",
   "execution_count": 209,
   "metadata": {},
   "outputs": [],
   "source": [
    "from automater import results\n",
    "import imp\n",
    "imp.reload(results)\n",
    "lobster = results.Lobster(working_dir=data_dir)"
   ]
  },
  {
   "cell_type": "code",
   "execution_count": 194,
   "metadata": {},
   "outputs": [
    {
     "data": {
      "text/plain": [
       "dict_keys(['1'])"
      ]
     },
     "execution_count": 194,
     "metadata": {},
     "output_type": "execute_result"
    }
   ],
   "source": [
    "lobster.cohp_data['4s-4s'].as_dict()['COHP'].keys()"
   ]
  },
  {
   "cell_type": "code",
   "execution_count": 317,
   "metadata": {},
   "outputs": [
    {
     "name": "stdout",
     "output_type": "stream",
     "text": [
      "[['total'], ['4s-4s'], ['4s-4py', '4s-4pz', '4s-4px'], ['4py-4s', '4pz-4s', '4px-4s'], ['4py-4py', '4pz-4pz', '4px-4px'], ['4py-4pz', '4py-4px', '4pz-4py', '4pz-4px', '4px-4py', '4px-4pz']]\n",
      "17\n",
      "6\n"
     ]
    }
   ],
   "source": [
    "cohp_data = lobster.cohp_data\n",
    "keys = list(lobster.cohp_data.keys())\n",
    "same_data = []\n",
    "all_data = []\n",
    "# for i in range(len(keys)):\n",
    "#     all_data.append(np.array(cohp_data[keys[i]].as_dict()['COHP']['1']))\n",
    "#     if not cohp_data[keys[i]].as_dict()['COHP']['1'] in same_data:\n",
    "#         same_data.append(cohp_data[keys[i]].as_dict()['COHP']['1'])\n",
    "\n",
    "for i in range(len(keys)):\n",
    "    all_data.append(list(np.array(cohp_data[keys[i]].as_dict()['COHP']['1'])))\n",
    "    if not list(np.round(cohp_data[keys[i]].as_dict()['COHP']['1'], 6)) in same_data:\n",
    "        same_data.append(list(np.round(cohp_data[keys[i]].as_dict()['COHP']['1'], 6)))\n",
    "    \n",
    "\n",
    "duplicated = []\n",
    "for data in same_data:\n",
    "    idx = [ i for i, x in enumerate(all_data) if x == data ] \n",
    "    duplicated.append([ keys[ix] for ix in idx ])\n",
    "print(duplicated)\n",
    "\n",
    "print(len(all_data))\n",
    "print(len(same_data))"
   ]
  },
  {
   "cell_type": "code",
   "execution_count": 314,
   "metadata": {},
   "outputs": [
    {
     "data": {
      "text/plain": [
       "['total',\n",
       " '4s-4s',\n",
       " '4s-4py',\n",
       " '4s-4pz',\n",
       " '4s-4px',\n",
       " '4py-4s',\n",
       " '4py-4py',\n",
       " '4py-4pz',\n",
       " '4py-4px',\n",
       " '4pz-4s',\n",
       " '4pz-4py',\n",
       " '4pz-4pz',\n",
       " '4pz-4px',\n",
       " '4px-4s',\n",
       " '4px-4py',\n",
       " '4px-4pz',\n",
       " '4px-4px']"
      ]
     },
     "execution_count": 314,
     "metadata": {},
     "output_type": "execute_result"
    }
   ],
   "source": [
    "keys"
   ]
  },
  {
   "cell_type": "code",
   "execution_count": 157,
   "metadata": {},
   "outputs": [
    {
     "ename": "TypeError",
     "evalue": "unsupported operand type(s) for *: 'Cohp' and 'float'",
     "output_type": "error",
     "traceback": [
      "\u001b[0;31m---------------------------------------------------------------------------\u001b[0m",
      "\u001b[0;31mTypeError\u001b[0m                                 Traceback (most recent call last)",
      "\u001b[0;32m~/.pyenv/versions/anaconda3-5.3.1/envs/conda/lib/python3.6/site-packages/numpy/core/fromnumeric.py\u001b[0m in \u001b[0;36m_wrapfunc\u001b[0;34m(obj, method, *args, **kwds)\u001b[0m\n\u001b[1;32m     50\u001b[0m     \u001b[0;32mtry\u001b[0m\u001b[0;34m:\u001b[0m\u001b[0;34m\u001b[0m\u001b[0;34m\u001b[0m\u001b[0m\n\u001b[0;32m---> 51\u001b[0;31m         \u001b[0;32mreturn\u001b[0m \u001b[0mgetattr\u001b[0m\u001b[0;34m(\u001b[0m\u001b[0mobj\u001b[0m\u001b[0;34m,\u001b[0m \u001b[0mmethod\u001b[0m\u001b[0;34m)\u001b[0m\u001b[0;34m(\u001b[0m\u001b[0;34m*\u001b[0m\u001b[0margs\u001b[0m\u001b[0;34m,\u001b[0m \u001b[0;34m**\u001b[0m\u001b[0mkwds\u001b[0m\u001b[0;34m)\u001b[0m\u001b[0;34m\u001b[0m\u001b[0;34m\u001b[0m\u001b[0m\n\u001b[0m\u001b[1;32m     52\u001b[0m \u001b[0;34m\u001b[0m\u001b[0m\n",
      "\u001b[0;31mTypeError\u001b[0m: unsupported operand type(s) for *: 'Cohp' and 'float'",
      "\nDuring handling of the above exception, another exception occurred:\n",
      "\u001b[0;31mTypeError\u001b[0m                                 Traceback (most recent call last)",
      "\u001b[0;32m<ipython-input-157-be4238c8d4b0>\u001b[0m in \u001b[0;36m<module>\u001b[0;34m\u001b[0m\n\u001b[1;32m      1\u001b[0m \u001b[0;32mimport\u001b[0m \u001b[0mnumpy\u001b[0m \u001b[0;32mas\u001b[0m \u001b[0mnp\u001b[0m\u001b[0;34m\u001b[0m\u001b[0;34m\u001b[0m\u001b[0m\n\u001b[0;32m----> 2\u001b[0;31m \u001b[0mnp\u001b[0m\u001b[0;34m.\u001b[0m\u001b[0mround\u001b[0m\u001b[0;34m(\u001b[0m\u001b[0mnp\u001b[0m\u001b[0;34m.\u001b[0m\u001b[0marray\u001b[0m\u001b[0;34m(\u001b[0m\u001b[0mdata\u001b[0m\u001b[0;34m[\u001b[0m\u001b[0;34m'4py-4px'\u001b[0m\u001b[0;34m]\u001b[0m\u001b[0;34m)\u001b[0m\u001b[0;34m,\u001b[0m \u001b[0;36m6\u001b[0m\u001b[0;34m)\u001b[0m \u001b[0;34m==\u001b[0m \u001b[0mnp\u001b[0m\u001b[0;34m.\u001b[0m\u001b[0mround\u001b[0m\u001b[0;34m(\u001b[0m\u001b[0mnp\u001b[0m\u001b[0;34m.\u001b[0m\u001b[0marray\u001b[0m\u001b[0;34m(\u001b[0m\u001b[0mdata\u001b[0m\u001b[0;34m[\u001b[0m\u001b[0;34m'4px-4py'\u001b[0m\u001b[0;34m]\u001b[0m\u001b[0;34m)\u001b[0m\u001b[0;34m)\u001b[0m\u001b[0;34m\u001b[0m\u001b[0;34m\u001b[0m\u001b[0m\n\u001b[0m",
      "\u001b[0;32m~/.pyenv/versions/anaconda3-5.3.1/envs/conda/lib/python3.6/site-packages/numpy/core/fromnumeric.py\u001b[0m in \u001b[0;36mround_\u001b[0;34m(a, decimals, out)\u001b[0m\n\u001b[1;32m   2812\u001b[0m \u001b[0;34m\u001b[0m\u001b[0m\n\u001b[1;32m   2813\u001b[0m     \"\"\"\n\u001b[0;32m-> 2814\u001b[0;31m     \u001b[0;32mreturn\u001b[0m \u001b[0maround\u001b[0m\u001b[0;34m(\u001b[0m\u001b[0ma\u001b[0m\u001b[0;34m,\u001b[0m \u001b[0mdecimals\u001b[0m\u001b[0;34m=\u001b[0m\u001b[0mdecimals\u001b[0m\u001b[0;34m,\u001b[0m \u001b[0mout\u001b[0m\u001b[0;34m=\u001b[0m\u001b[0mout\u001b[0m\u001b[0;34m)\u001b[0m\u001b[0;34m\u001b[0m\u001b[0;34m\u001b[0m\u001b[0m\n\u001b[0m\u001b[1;32m   2815\u001b[0m \u001b[0;34m\u001b[0m\u001b[0m\n\u001b[1;32m   2816\u001b[0m \u001b[0;34m\u001b[0m\u001b[0m\n",
      "\u001b[0;32m~/.pyenv/versions/anaconda3-5.3.1/envs/conda/lib/python3.6/site-packages/numpy/core/fromnumeric.py\u001b[0m in \u001b[0;36maround\u001b[0;34m(a, decimals, out)\u001b[0m\n\u001b[1;32m   2798\u001b[0m \u001b[0;34m\u001b[0m\u001b[0m\n\u001b[1;32m   2799\u001b[0m     \"\"\"\n\u001b[0;32m-> 2800\u001b[0;31m     \u001b[0;32mreturn\u001b[0m \u001b[0m_wrapfunc\u001b[0m\u001b[0;34m(\u001b[0m\u001b[0ma\u001b[0m\u001b[0;34m,\u001b[0m \u001b[0;34m'round'\u001b[0m\u001b[0;34m,\u001b[0m \u001b[0mdecimals\u001b[0m\u001b[0;34m=\u001b[0m\u001b[0mdecimals\u001b[0m\u001b[0;34m,\u001b[0m \u001b[0mout\u001b[0m\u001b[0;34m=\u001b[0m\u001b[0mout\u001b[0m\u001b[0;34m)\u001b[0m\u001b[0;34m\u001b[0m\u001b[0;34m\u001b[0m\u001b[0m\n\u001b[0m\u001b[1;32m   2801\u001b[0m \u001b[0;34m\u001b[0m\u001b[0m\n\u001b[1;32m   2802\u001b[0m \u001b[0;34m\u001b[0m\u001b[0m\n",
      "\u001b[0;32m~/.pyenv/versions/anaconda3-5.3.1/envs/conda/lib/python3.6/site-packages/numpy/core/fromnumeric.py\u001b[0m in \u001b[0;36m_wrapfunc\u001b[0;34m(obj, method, *args, **kwds)\u001b[0m\n\u001b[1;32m     59\u001b[0m     \u001b[0;31m# a downstream library like 'pandas'.\u001b[0m\u001b[0;34m\u001b[0m\u001b[0;34m\u001b[0m\u001b[0;34m\u001b[0m\u001b[0m\n\u001b[1;32m     60\u001b[0m     \u001b[0;32mexcept\u001b[0m \u001b[0;34m(\u001b[0m\u001b[0mAttributeError\u001b[0m\u001b[0;34m,\u001b[0m \u001b[0mTypeError\u001b[0m\u001b[0;34m)\u001b[0m\u001b[0;34m:\u001b[0m\u001b[0;34m\u001b[0m\u001b[0;34m\u001b[0m\u001b[0m\n\u001b[0;32m---> 61\u001b[0;31m         \u001b[0;32mreturn\u001b[0m \u001b[0m_wrapit\u001b[0m\u001b[0;34m(\u001b[0m\u001b[0mobj\u001b[0m\u001b[0;34m,\u001b[0m \u001b[0mmethod\u001b[0m\u001b[0;34m,\u001b[0m \u001b[0;34m*\u001b[0m\u001b[0margs\u001b[0m\u001b[0;34m,\u001b[0m \u001b[0;34m**\u001b[0m\u001b[0mkwds\u001b[0m\u001b[0;34m)\u001b[0m\u001b[0;34m\u001b[0m\u001b[0;34m\u001b[0m\u001b[0m\n\u001b[0m\u001b[1;32m     62\u001b[0m \u001b[0;34m\u001b[0m\u001b[0m\n\u001b[1;32m     63\u001b[0m \u001b[0;34m\u001b[0m\u001b[0m\n",
      "\u001b[0;32m~/.pyenv/versions/anaconda3-5.3.1/envs/conda/lib/python3.6/site-packages/numpy/core/fromnumeric.py\u001b[0m in \u001b[0;36m_wrapit\u001b[0;34m(obj, method, *args, **kwds)\u001b[0m\n\u001b[1;32m     39\u001b[0m     \u001b[0;32mexcept\u001b[0m \u001b[0mAttributeError\u001b[0m\u001b[0;34m:\u001b[0m\u001b[0;34m\u001b[0m\u001b[0;34m\u001b[0m\u001b[0m\n\u001b[1;32m     40\u001b[0m         \u001b[0mwrap\u001b[0m \u001b[0;34m=\u001b[0m \u001b[0;32mNone\u001b[0m\u001b[0;34m\u001b[0m\u001b[0;34m\u001b[0m\u001b[0m\n\u001b[0;32m---> 41\u001b[0;31m     \u001b[0mresult\u001b[0m \u001b[0;34m=\u001b[0m \u001b[0mgetattr\u001b[0m\u001b[0;34m(\u001b[0m\u001b[0masarray\u001b[0m\u001b[0;34m(\u001b[0m\u001b[0mobj\u001b[0m\u001b[0;34m)\u001b[0m\u001b[0;34m,\u001b[0m \u001b[0mmethod\u001b[0m\u001b[0;34m)\u001b[0m\u001b[0;34m(\u001b[0m\u001b[0;34m*\u001b[0m\u001b[0margs\u001b[0m\u001b[0;34m,\u001b[0m \u001b[0;34m**\u001b[0m\u001b[0mkwds\u001b[0m\u001b[0;34m)\u001b[0m\u001b[0;34m\u001b[0m\u001b[0;34m\u001b[0m\u001b[0m\n\u001b[0m\u001b[1;32m     42\u001b[0m     \u001b[0;32mif\u001b[0m \u001b[0mwrap\u001b[0m\u001b[0;34m:\u001b[0m\u001b[0;34m\u001b[0m\u001b[0;34m\u001b[0m\u001b[0m\n\u001b[1;32m     43\u001b[0m         \u001b[0;32mif\u001b[0m \u001b[0;32mnot\u001b[0m \u001b[0misinstance\u001b[0m\u001b[0;34m(\u001b[0m\u001b[0mresult\u001b[0m\u001b[0;34m,\u001b[0m \u001b[0mmu\u001b[0m\u001b[0;34m.\u001b[0m\u001b[0mndarray\u001b[0m\u001b[0;34m)\u001b[0m\u001b[0;34m:\u001b[0m\u001b[0;34m\u001b[0m\u001b[0;34m\u001b[0m\u001b[0m\n",
      "\u001b[0;31mTypeError\u001b[0m: unsupported operand type(s) for *: 'Cohp' and 'float'"
     ]
    }
   ],
   "source": [
    "np.array(data['4py-4px']), 6) == np.round(np.array(data['4px-4py']))"
   ]
  },
  {
   "cell_type": "code",
   "execution_count": 161,
   "metadata": {},
   "outputs": [
    {
     "data": {
      "text/plain": [
       "True"
      ]
     },
     "execution_count": 161,
     "metadata": {},
     "output_type": "execute_result"
    }
   ],
   "source": [
    "data['4px-4py'].as_dict()['COHP'] == data['4py-4px'].as_dict()['COHP']"
   ]
  },
  {
   "cell_type": "code",
   "execution_count": 162,
   "metadata": {},
   "outputs": [],
   "source": [
    "lst = []\n",
    "for i in lst:\n",
    "    print(i)"
   ]
  },
  {
   "cell_type": "code",
   "execution_count": null,
   "metadata": {},
   "outputs": [],
   "source": []
  }
 ],
 "metadata": {
  "kernelspec": {
   "display_name": "conda",
   "language": "python",
   "name": "conda"
  },
  "language_info": {
   "codemirror_mode": {
    "name": "ipython",
    "version": 3
   },
   "file_extension": ".py",
   "mimetype": "text/x-python",
   "name": "python",
   "nbconvert_exporter": "python",
   "pygments_lexer": "ipython3",
   "version": "3.6.7"
  }
 },
 "nbformat": 4,
 "nbformat_minor": 2
}
